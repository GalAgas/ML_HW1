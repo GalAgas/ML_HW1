{
 "cells": [
  {
   "cell_type": "code",
   "execution_count": 88,
   "metadata": {
    "collapsed": true
   },
   "outputs": [
    {
     "data": {
      "text/plain": "       id  Gender      Customer Type  Age   Type of Travel     Class  \\\n0   70172    Male     Loyal Customer   13  Personal Travel  Eco Plus   \n1    5047    Male  disloyal Customer   25  Business travel  Business   \n2  110028  Female     Loyal Customer   26  Business travel  Business   \n3   24026  Female     Loyal Customer   25  Business travel  Business   \n4  119299    Male     Loyal Customer   61  Business travel  Business   \n\n   Flight Distance  Inflight wifi service  Departure/Arrival time convenient  \\\n0              460                      3                                  4   \n1              235                      3                                  2   \n2             1142                      2                                  2   \n3              562                      2                                  5   \n4              214                      3                                  3   \n\n   Ease of Online booking  ...  Inflight entertainment  On-board service  \\\n0                       3  ...                       5                 4   \n1                       3  ...                       1                 1   \n2                       2  ...                       5                 4   \n3                       5  ...                       2                 2   \n4                       3  ...                       3                 3   \n\n   Leg room service  Baggage handling  Checkin service  Inflight service  \\\n0                 3                 4                4                 5   \n1                 5                 3                1                 4   \n2                 3                 4                4                 4   \n3                 5                 3                1                 4   \n4                 4                 4                3                 3   \n\n   Cleanliness  Departure Delay in Minutes  Arrival Delay in Minutes  \\\n0            5                          25                      18.0   \n1            1                           1                       6.0   \n2            5                           0                       0.0   \n3            2                          11                       9.0   \n4            3                           0                       0.0   \n\n              satisfaction  \n0  neutral or dissatisfied  \n1  neutral or dissatisfied  \n2                satisfied  \n3  neutral or dissatisfied  \n4                satisfied  \n\n[5 rows x 24 columns]",
      "text/html": "<div>\n<style scoped>\n    .dataframe tbody tr th:only-of-type {\n        vertical-align: middle;\n    }\n\n    .dataframe tbody tr th {\n        vertical-align: top;\n    }\n\n    .dataframe thead th {\n        text-align: right;\n    }\n</style>\n<table border=\"1\" class=\"dataframe\">\n  <thead>\n    <tr style=\"text-align: right;\">\n      <th></th>\n      <th>id</th>\n      <th>Gender</th>\n      <th>Customer Type</th>\n      <th>Age</th>\n      <th>Type of Travel</th>\n      <th>Class</th>\n      <th>Flight Distance</th>\n      <th>Inflight wifi service</th>\n      <th>Departure/Arrival time convenient</th>\n      <th>Ease of Online booking</th>\n      <th>...</th>\n      <th>Inflight entertainment</th>\n      <th>On-board service</th>\n      <th>Leg room service</th>\n      <th>Baggage handling</th>\n      <th>Checkin service</th>\n      <th>Inflight service</th>\n      <th>Cleanliness</th>\n      <th>Departure Delay in Minutes</th>\n      <th>Arrival Delay in Minutes</th>\n      <th>satisfaction</th>\n    </tr>\n  </thead>\n  <tbody>\n    <tr>\n      <th>0</th>\n      <td>70172</td>\n      <td>Male</td>\n      <td>Loyal Customer</td>\n      <td>13</td>\n      <td>Personal Travel</td>\n      <td>Eco Plus</td>\n      <td>460</td>\n      <td>3</td>\n      <td>4</td>\n      <td>3</td>\n      <td>...</td>\n      <td>5</td>\n      <td>4</td>\n      <td>3</td>\n      <td>4</td>\n      <td>4</td>\n      <td>5</td>\n      <td>5</td>\n      <td>25</td>\n      <td>18.0</td>\n      <td>neutral or dissatisfied</td>\n    </tr>\n    <tr>\n      <th>1</th>\n      <td>5047</td>\n      <td>Male</td>\n      <td>disloyal Customer</td>\n      <td>25</td>\n      <td>Business travel</td>\n      <td>Business</td>\n      <td>235</td>\n      <td>3</td>\n      <td>2</td>\n      <td>3</td>\n      <td>...</td>\n      <td>1</td>\n      <td>1</td>\n      <td>5</td>\n      <td>3</td>\n      <td>1</td>\n      <td>4</td>\n      <td>1</td>\n      <td>1</td>\n      <td>6.0</td>\n      <td>neutral or dissatisfied</td>\n    </tr>\n    <tr>\n      <th>2</th>\n      <td>110028</td>\n      <td>Female</td>\n      <td>Loyal Customer</td>\n      <td>26</td>\n      <td>Business travel</td>\n      <td>Business</td>\n      <td>1142</td>\n      <td>2</td>\n      <td>2</td>\n      <td>2</td>\n      <td>...</td>\n      <td>5</td>\n      <td>4</td>\n      <td>3</td>\n      <td>4</td>\n      <td>4</td>\n      <td>4</td>\n      <td>5</td>\n      <td>0</td>\n      <td>0.0</td>\n      <td>satisfied</td>\n    </tr>\n    <tr>\n      <th>3</th>\n      <td>24026</td>\n      <td>Female</td>\n      <td>Loyal Customer</td>\n      <td>25</td>\n      <td>Business travel</td>\n      <td>Business</td>\n      <td>562</td>\n      <td>2</td>\n      <td>5</td>\n      <td>5</td>\n      <td>...</td>\n      <td>2</td>\n      <td>2</td>\n      <td>5</td>\n      <td>3</td>\n      <td>1</td>\n      <td>4</td>\n      <td>2</td>\n      <td>11</td>\n      <td>9.0</td>\n      <td>neutral or dissatisfied</td>\n    </tr>\n    <tr>\n      <th>4</th>\n      <td>119299</td>\n      <td>Male</td>\n      <td>Loyal Customer</td>\n      <td>61</td>\n      <td>Business travel</td>\n      <td>Business</td>\n      <td>214</td>\n      <td>3</td>\n      <td>3</td>\n      <td>3</td>\n      <td>...</td>\n      <td>3</td>\n      <td>3</td>\n      <td>4</td>\n      <td>4</td>\n      <td>3</td>\n      <td>3</td>\n      <td>3</td>\n      <td>0</td>\n      <td>0.0</td>\n      <td>satisfied</td>\n    </tr>\n  </tbody>\n</table>\n<p>5 rows × 24 columns</p>\n</div>"
     },
     "execution_count": 88,
     "metadata": {},
     "output_type": "execute_result"
    }
   ],
   "source": [
    "import pandas as pd\n",
    "import numpy as np\n",
    "from sklearn.preprocessing import OrdinalEncoder, LabelEncoder\n",
    "df_train = pd.read_csv(\"Data/train.csv\", index_col=0)\n",
    "df_test = pd.read_csv(\"Data/test.csv\", index_col=0)\n",
    "df_train.head()"
   ]
  },
  {
   "cell_type": "code",
   "execution_count": 89,
   "outputs": [],
   "source": [
    "# cleaning\n",
    "\n",
    "# removing id column\n",
    "df_train.drop(columns=['id'],inplace=True)\n",
    "df_test.drop(columns=['id'],inplace=True)"
   ],
   "metadata": {
    "collapsed": false,
    "pycharm": {
     "name": "#%%\n"
    }
   }
  },
  {
   "cell_type": "code",
   "execution_count": 90,
   "outputs": [
    {
     "name": "stdout",
     "output_type": "stream",
     "text": [
      "Arrival Delay in Minutes\n",
      "True\n"
     ]
    },
    {
     "data": {
      "text/plain": "False"
     },
     "execution_count": 90,
     "metadata": {},
     "output_type": "execute_result"
    }
   ],
   "source": [
    "# checking if there are any nulls\n",
    "for c in df_train.columns:\n",
    "    if df_train[c].isnull().values.any():\n",
    "        print(c)\n",
    "\n",
    "# there are nulls in 'Arrival Delay in Minutes' column. fill with the avg\n",
    "Arrival_Delay_in_Minutes_avg = df_train['Arrival Delay in Minutes'].mean()\n",
    "df_train['Arrival Delay in Minutes'].fillna(Arrival_Delay_in_Minutes_avg, inplace=True)\n",
    "\n",
    "# final check for nulls\n",
    "df_train.isnull().values.any()\n",
    "\n",
    "print(df_test['Arrival Delay in Minutes'].isnull().values.any())\n",
    "df_test['Arrival Delay in Minutes'].fillna(Arrival_Delay_in_Minutes_avg, inplace=True)\n",
    "df_test.isnull().values.any()\n"
   ],
   "metadata": {
    "collapsed": false,
    "pycharm": {
     "name": "#%%\n"
    }
   }
  },
  {
   "cell_type": "code",
   "execution_count": 91,
   "outputs": [
    {
     "data": {
      "text/plain": "       Gender  Customer Type  Age  Type of Travel  Class  Flight Distance  \\\n0         0.0            0.0   52             0.0    1.0              160   \n1         0.0            0.0   36             0.0    0.0             2863   \n2         1.0            1.0   20             0.0    1.0              192   \n3         1.0            0.0   44             0.0    0.0             3377   \n4         0.0            0.0   49             0.0    1.0             1182   \n...       ...            ...  ...             ...    ...              ...   \n25971     1.0            1.0   34             0.0    0.0              526   \n25972     1.0            0.0   23             0.0    0.0              646   \n25973     0.0            0.0   17             1.0    1.0              828   \n25974     1.0            0.0   14             0.0    0.0             1127   \n25975     0.0            0.0   42             1.0    1.0              264   \n\n       Inflight wifi service  Departure/Arrival time convenient  \\\n0                          5                                  4   \n1                          1                                  1   \n2                          2                                  0   \n3                          0                                  0   \n4                          2                                  3   \n...                      ...                                ...   \n25971                      3                                  3   \n25972                      4                                  4   \n25973                      2                                  5   \n25974                      3                                  3   \n25975                      2                                  5   \n\n       Ease of Online booking  Gate location  ...  Inflight entertainment  \\\n0                           3              4  ...                       5   \n1                           3              1  ...                       4   \n2                           2              4  ...                       2   \n3                           0              2  ...                       1   \n4                           4              3  ...                       2   \n...                       ...            ...  ...                     ...   \n25971                       3              1  ...                       4   \n25972                       4              4  ...                       4   \n25973                       1              5  ...                       2   \n25974                       3              3  ...                       4   \n25975                       2              5  ...                       1   \n\n       On-board service  Leg room service  Baggage handling  Checkin service  \\\n0                     5                 5                 5                2   \n1                     4                 4                 4                3   \n2                     4                 1                 3                2   \n3                     1                 1                 1                3   \n4                     2                 2                 2                4   \n...                 ...               ...               ...              ...   \n25971                 3                 2                 4                4   \n25972                 4                 5                 5                5   \n25973                 4                 3                 4                5   \n25974                 3                 2                 5                4   \n25975                 1                 2                 1                1   \n\n       Inflight service  Cleanliness  Departure Delay in Minutes  \\\n0                     5            5                          50   \n1                     4            5                           0   \n2                     2            2                           0   \n3                     1            4                           0   \n4                     2            4                           0   \n...                 ...          ...                         ...   \n25971                 5            4                           0   \n25972                 5            4                           0   \n25973                 4            2                           0   \n25974                 5            4                           0   \n25975                 1            1                           0   \n\n       Arrival Delay in Minutes  satisfaction  \n0                          44.0             1  \n1                           0.0             1  \n2                           0.0             0  \n3                           6.0             1  \n4                          20.0             1  \n...                         ...           ...  \n25971                       0.0             0  \n25972                       0.0             1  \n25973                       0.0             0  \n25974                       0.0             1  \n25975                       0.0             0  \n\n[25976 rows x 23 columns]",
      "text/html": "<div>\n<style scoped>\n    .dataframe tbody tr th:only-of-type {\n        vertical-align: middle;\n    }\n\n    .dataframe tbody tr th {\n        vertical-align: top;\n    }\n\n    .dataframe thead th {\n        text-align: right;\n    }\n</style>\n<table border=\"1\" class=\"dataframe\">\n  <thead>\n    <tr style=\"text-align: right;\">\n      <th></th>\n      <th>Gender</th>\n      <th>Customer Type</th>\n      <th>Age</th>\n      <th>Type of Travel</th>\n      <th>Class</th>\n      <th>Flight Distance</th>\n      <th>Inflight wifi service</th>\n      <th>Departure/Arrival time convenient</th>\n      <th>Ease of Online booking</th>\n      <th>Gate location</th>\n      <th>...</th>\n      <th>Inflight entertainment</th>\n      <th>On-board service</th>\n      <th>Leg room service</th>\n      <th>Baggage handling</th>\n      <th>Checkin service</th>\n      <th>Inflight service</th>\n      <th>Cleanliness</th>\n      <th>Departure Delay in Minutes</th>\n      <th>Arrival Delay in Minutes</th>\n      <th>satisfaction</th>\n    </tr>\n  </thead>\n  <tbody>\n    <tr>\n      <th>0</th>\n      <td>0.0</td>\n      <td>0.0</td>\n      <td>52</td>\n      <td>0.0</td>\n      <td>1.0</td>\n      <td>160</td>\n      <td>5</td>\n      <td>4</td>\n      <td>3</td>\n      <td>4</td>\n      <td>...</td>\n      <td>5</td>\n      <td>5</td>\n      <td>5</td>\n      <td>5</td>\n      <td>2</td>\n      <td>5</td>\n      <td>5</td>\n      <td>50</td>\n      <td>44.0</td>\n      <td>1</td>\n    </tr>\n    <tr>\n      <th>1</th>\n      <td>0.0</td>\n      <td>0.0</td>\n      <td>36</td>\n      <td>0.0</td>\n      <td>0.0</td>\n      <td>2863</td>\n      <td>1</td>\n      <td>1</td>\n      <td>3</td>\n      <td>1</td>\n      <td>...</td>\n      <td>4</td>\n      <td>4</td>\n      <td>4</td>\n      <td>4</td>\n      <td>3</td>\n      <td>4</td>\n      <td>5</td>\n      <td>0</td>\n      <td>0.0</td>\n      <td>1</td>\n    </tr>\n    <tr>\n      <th>2</th>\n      <td>1.0</td>\n      <td>1.0</td>\n      <td>20</td>\n      <td>0.0</td>\n      <td>1.0</td>\n      <td>192</td>\n      <td>2</td>\n      <td>0</td>\n      <td>2</td>\n      <td>4</td>\n      <td>...</td>\n      <td>2</td>\n      <td>4</td>\n      <td>1</td>\n      <td>3</td>\n      <td>2</td>\n      <td>2</td>\n      <td>2</td>\n      <td>0</td>\n      <td>0.0</td>\n      <td>0</td>\n    </tr>\n    <tr>\n      <th>3</th>\n      <td>1.0</td>\n      <td>0.0</td>\n      <td>44</td>\n      <td>0.0</td>\n      <td>0.0</td>\n      <td>3377</td>\n      <td>0</td>\n      <td>0</td>\n      <td>0</td>\n      <td>2</td>\n      <td>...</td>\n      <td>1</td>\n      <td>1</td>\n      <td>1</td>\n      <td>1</td>\n      <td>3</td>\n      <td>1</td>\n      <td>4</td>\n      <td>0</td>\n      <td>6.0</td>\n      <td>1</td>\n    </tr>\n    <tr>\n      <th>4</th>\n      <td>0.0</td>\n      <td>0.0</td>\n      <td>49</td>\n      <td>0.0</td>\n      <td>1.0</td>\n      <td>1182</td>\n      <td>2</td>\n      <td>3</td>\n      <td>4</td>\n      <td>3</td>\n      <td>...</td>\n      <td>2</td>\n      <td>2</td>\n      <td>2</td>\n      <td>2</td>\n      <td>4</td>\n      <td>2</td>\n      <td>4</td>\n      <td>0</td>\n      <td>20.0</td>\n      <td>1</td>\n    </tr>\n    <tr>\n      <th>...</th>\n      <td>...</td>\n      <td>...</td>\n      <td>...</td>\n      <td>...</td>\n      <td>...</td>\n      <td>...</td>\n      <td>...</td>\n      <td>...</td>\n      <td>...</td>\n      <td>...</td>\n      <td>...</td>\n      <td>...</td>\n      <td>...</td>\n      <td>...</td>\n      <td>...</td>\n      <td>...</td>\n      <td>...</td>\n      <td>...</td>\n      <td>...</td>\n      <td>...</td>\n      <td>...</td>\n    </tr>\n    <tr>\n      <th>25971</th>\n      <td>1.0</td>\n      <td>1.0</td>\n      <td>34</td>\n      <td>0.0</td>\n      <td>0.0</td>\n      <td>526</td>\n      <td>3</td>\n      <td>3</td>\n      <td>3</td>\n      <td>1</td>\n      <td>...</td>\n      <td>4</td>\n      <td>3</td>\n      <td>2</td>\n      <td>4</td>\n      <td>4</td>\n      <td>5</td>\n      <td>4</td>\n      <td>0</td>\n      <td>0.0</td>\n      <td>0</td>\n    </tr>\n    <tr>\n      <th>25972</th>\n      <td>1.0</td>\n      <td>0.0</td>\n      <td>23</td>\n      <td>0.0</td>\n      <td>0.0</td>\n      <td>646</td>\n      <td>4</td>\n      <td>4</td>\n      <td>4</td>\n      <td>4</td>\n      <td>...</td>\n      <td>4</td>\n      <td>4</td>\n      <td>5</td>\n      <td>5</td>\n      <td>5</td>\n      <td>5</td>\n      <td>4</td>\n      <td>0</td>\n      <td>0.0</td>\n      <td>1</td>\n    </tr>\n    <tr>\n      <th>25973</th>\n      <td>0.0</td>\n      <td>0.0</td>\n      <td>17</td>\n      <td>1.0</td>\n      <td>1.0</td>\n      <td>828</td>\n      <td>2</td>\n      <td>5</td>\n      <td>1</td>\n      <td>5</td>\n      <td>...</td>\n      <td>2</td>\n      <td>4</td>\n      <td>3</td>\n      <td>4</td>\n      <td>5</td>\n      <td>4</td>\n      <td>2</td>\n      <td>0</td>\n      <td>0.0</td>\n      <td>0</td>\n    </tr>\n    <tr>\n      <th>25974</th>\n      <td>1.0</td>\n      <td>0.0</td>\n      <td>14</td>\n      <td>0.0</td>\n      <td>0.0</td>\n      <td>1127</td>\n      <td>3</td>\n      <td>3</td>\n      <td>3</td>\n      <td>3</td>\n      <td>...</td>\n      <td>4</td>\n      <td>3</td>\n      <td>2</td>\n      <td>5</td>\n      <td>4</td>\n      <td>5</td>\n      <td>4</td>\n      <td>0</td>\n      <td>0.0</td>\n      <td>1</td>\n    </tr>\n    <tr>\n      <th>25975</th>\n      <td>0.0</td>\n      <td>0.0</td>\n      <td>42</td>\n      <td>1.0</td>\n      <td>1.0</td>\n      <td>264</td>\n      <td>2</td>\n      <td>5</td>\n      <td>2</td>\n      <td>5</td>\n      <td>...</td>\n      <td>1</td>\n      <td>1</td>\n      <td>2</td>\n      <td>1</td>\n      <td>1</td>\n      <td>1</td>\n      <td>1</td>\n      <td>0</td>\n      <td>0.0</td>\n      <td>0</td>\n    </tr>\n  </tbody>\n</table>\n<p>25976 rows × 23 columns</p>\n</div>"
     },
     "execution_count": 91,
     "metadata": {},
     "output_type": "execute_result"
    }
   ],
   "source": [
    "# encoding categorical features and target feature\n",
    "\n",
    "cat_features = ['Gender', 'Customer Type', 'Type of Travel', 'Class']\n",
    "df_cat = df_train[cat_features]\n",
    "\n",
    "oe = OrdinalEncoder()\n",
    "df_cat = oe.fit_transform(df_cat)\n",
    "df_cat = pd.DataFrame(df_cat, columns=cat_features)\n",
    "df_train[cat_features] = df_cat[cat_features]\n",
    "le = LabelEncoder()\n",
    "df_train['satisfaction'] = le.fit_transform(df_train['satisfaction'])\n",
    "df_train\n",
    "\n",
    "df_cat = df_test[cat_features]\n",
    "df_cat = oe.transform(df_cat)\n",
    "df_cat = pd.DataFrame(df_cat, columns=cat_features)\n",
    "df_test[cat_features] = df_cat[cat_features]\n",
    "df_test['satisfaction'] = le.transform(df_test['satisfaction'])\n",
    "df_test"
   ],
   "metadata": {
    "collapsed": false,
    "pycharm": {
     "name": "#%%\n"
    }
   }
  },
  {
   "cell_type": "markdown",
   "source": [
    "Modeling"
   ],
   "metadata": {
    "collapsed": false
   }
  },
  {
   "cell_type": "code",
   "execution_count": 92,
   "outputs": [
    {
     "name": "stdout",
     "output_type": "stream",
     "text": [
      "clf: 0.9479134585771481\n",
      "soft clf: 0.81967970434247\n"
     ]
    }
   ],
   "source": [
    "from sklearn.tree import DecisionTreeClassifier\n",
    "from SoftDT import SoftDT\n",
    "from sklearn.metrics import accuracy_score\n",
    "\n",
    "X_train, y_train, X_test, y_test = df_train.drop(columns=['satisfaction']), df_train['satisfaction'],\\\n",
    "                                   df_test.drop(columns=['satisfaction']), df_test['satisfaction']\n",
    "\n",
    "clf = DecisionTreeClassifier(random_state=0)\n",
    "clf.fit(X_train, y_train)\n",
    "clf_pred = clf.predict(X_test)\n",
    "\n",
    "clf_soft = SoftDT()\n",
    "clf_soft.fit(X_train,y_train)\n",
    "clf_soft_pred = clf_soft.predict(X_test)\n",
    "clf_soft_pred.reshape(clf_soft_pred.shape[0],clf_soft_pred.shape[2])\n",
    "clf_soft_pred = np.array([np.argmax(a) for a in clf_soft_pred])\n",
    "\n",
    "print(\"clf:\", accuracy_score(y_test, clf_pred))\n",
    "print(\"soft clf:\", accuracy_score(y_test, clf_soft_pred))"
   ],
   "metadata": {
    "collapsed": false,
    "pycharm": {
     "name": "#%%\n"
    }
   }
  }
 ],
 "metadata": {
  "kernelspec": {
   "display_name": "Python 3",
   "language": "python",
   "name": "python3"
  },
  "language_info": {
   "codemirror_mode": {
    "name": "ipython",
    "version": 2
   },
   "file_extension": ".py",
   "mimetype": "text/x-python",
   "name": "python",
   "nbconvert_exporter": "python",
   "pygments_lexer": "ipython2",
   "version": "2.7.6"
  }
 },
 "nbformat": 4,
 "nbformat_minor": 0
}